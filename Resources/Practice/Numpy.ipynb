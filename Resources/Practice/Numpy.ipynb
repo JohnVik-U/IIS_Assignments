{
  "cells": [
    {
      "cell_type": "code",
      "execution_count": null,
      "metadata": {
        "colab": {
          "base_uri": "https://localhost:8080/"
        },
        "id": "VptYquVVS67p",
        "outputId": "1fd2ee1e-eb16-4af6-c8db-f770bac4d51a"
      },
      "outputs": [
        {
          "name": "stdout",
          "output_type": "stream",
          "text": [
            "Looking in indexes: https://pypi.org/simple, https://us-python.pkg.dev/colab-wheels/public/simple/\n",
            "Requirement already satisfied: numpy in /usr/local/lib/python3.8/dist-packages (1.22.4)\n"
          ]
        }
      ],
      "source": [
        "pip install numpy"
      ]
    },
    {
      "cell_type": "code",
      "execution_count": null,
      "metadata": {
        "colab": {
          "base_uri": "https://localhost:8080/"
        },
        "id": "5XnAu8ZAWWQG",
        "outputId": "fc0534b7-c843-4d11-fec8-f2206f13b9a1"
      },
      "outputs": [
        {
          "name": "stdout",
          "output_type": "stream",
          "text": [
            "[1 2 3 4]\n"
          ]
        }
      ],
      "source": [
        "import numpy as np\n",
        "my_list = [1, 2, 3, 4]\n",
        "my_array = np.array(my_list)\n",
        "print(my_array)"
      ]
    },
    {
      "cell_type": "code",
      "execution_count": null,
      "metadata": {
        "colab": {
          "base_uri": "https://localhost:8080/"
        },
        "id": "VPyPbrbIWul2",
        "outputId": "b4f676f3-bc4d-4944-8033-b4c66c8f424f"
      },
      "outputs": [
        {
          "name": "stdout",
          "output_type": "stream",
          "text": [
            "[2 4 6]\n"
          ]
        }
      ],
      "source": [
        "import numpy as np\n",
        "\n",
        "a = np.array([1, 2, 3])\n",
        "b = 2\n",
        "\n",
        "c = a * b\n",
        "print(c)"
      ]
    },
    {
      "cell_type": "code",
      "execution_count": null,
      "metadata": {
        "id": "qGVcWIwFW9Fa"
      },
      "outputs": [],
      "source": [
        "import numpy as np\n",
        "import matplotlib.pyplot as plt"
      ]
    },
    {
      "cell_type": "code",
      "execution_count": null,
      "metadata": {
        "colab": {
          "base_uri": "https://localhost:8080/",
          "height": 265
        },
        "id": "ubvTigChXGb5",
        "outputId": "d258bf24-9da4-407c-9729-87c8ac49c05b"
      },
      "outputs": [
        {
          "data": {
            "image/png": "[encoded data removed]",
            "text/plain": [
              "<Figure size 432x288 with 1 Axes>"
            ]
          },
          "metadata": {
            "needs_background": "light"
          },
          "output_type": "display_data"
        }
      ],
      "source": [
        "x = np.arange(0, 10, 0.1)\n",
        "y = np.sin(x)\n",
        "\n",
        "plt.plot(x, y)\n",
        "plt.show()"
      ]
    },
    {
      "cell_type": "code",
      "execution_count": null,
      "metadata": {
        "colab": {
          "base_uri": "https://localhost:8080/",
          "height": 265
        },
        "id": "bm2OnVfbXPIh",
        "outputId": "9a9cf347-4dd1-41b0-be93-4c7453e44a47"
      },
      "outputs": [
        {
          "data": {
            "image/png": "[encoded data removed]",
            "text/plain": [
              "<Figure size 432x288 with 1 Axes>"
            ]
          },
          "metadata": {
            "needs_background": "light"
          },
          "output_type": "display_data"
        }
      ],
      "source": [
        "import numpy as np\n",
        "import matplotlib.pyplot as plt\n",
        "\n",
        "x = np.random.normal(0, 1, size=100)\n",
        "y = np.random.normal(0, 1, size=100)\n",
        "\n",
        "plt.scatter(x, y)\n",
        "plt.show()"
      ]
    },
    {
      "cell_type": "code",
      "execution_count": null,
      "metadata": {
        "colab": {
          "base_uri": "https://localhost:8080/",
          "height": 268
        },
        "id": "ZWqDgw1eXXDE",
        "outputId": "99186f5f-2685-4cb5-e195-0128d8ceced2"
      },
      "outputs": [
        {
          "data": {
            "image/png": "[encoded data removed]",
            "text/plain": [
              "<Figure size 432x288 with 1 Axes>"
            ]
          },
          "metadata": {
            "needs_background": "light"
          },
          "output_type": "display_data"
        }
      ],
      "source": [
        "import numpy as np\n",
        "import matplotlib.pyplot as plt\n",
        "\n",
        "x = np.random.normal(0, 1, size=100)\n",
        "\n",
        "plt.hist(x)\n",
        "plt.show()"
      ]
    },
    {
      "cell_type": "code",
      "execution_count": null,
      "metadata": {
        "colab": {
          "base_uri": "https://localhost:8080/"
        },
        "id": "gFIq9YkPYqmt",
        "outputId": "ac60d2b4-2ad8-458a-b02c-b526f3bc28c5"
      },
      "outputs": [
        {
          "name": "stdout",
          "output_type": "stream",
          "text": [
            "0.33333333333333337\n"
          ]
        }
      ],
      "source": [
        "import scipy.integrate as spi\n",
        "def f(x):\n",
        "    return x**2\n",
        "\n",
        "result, error = spi.quad(f, 0, 1)\n",
        "print(result)"
      ]
    },
    {
      "cell_type": "code",
      "execution_count": null,
      "metadata": {
        "colab": {
          "base_uri": "https://localhost:8080/"
        },
        "id": "Jc9qo3-oYvgT",
        "outputId": "78323bb9-6249-4188-a2e8-7cad73c5aa4b"
      },
      "outputs": [
        {
          "name": "stdout",
          "output_type": "stream",
          "text": [
            "Looking in indexes: https://pypi.org/simple, https://us-python.pkg.dev/colab-wheels/public/simple/\n",
            "Requirement already satisfied: pandas in /usr/local/lib/python3.8/dist-packages (1.3.5)\n",
            "Requirement already satisfied: pytz>=2017.3 in /usr/local/lib/python3.8/dist-packages (from pandas) (2022.7.1)\n",
            "Requirement already satisfied: python-dateutil>=2.7.3 in /usr/local/lib/python3.8/dist-packages (from pandas) (2.8.2)\n",
            "Requirement already satisfied: numpy>=1.17.3 in /usr/local/lib/python3.8/dist-packages (from pandas) (1.22.4)\n",
            "Requirement already satisfied: six>=1.5 in /usr/local/lib/python3.8/dist-packages (from python-dateutil>=2.7.3->pandas) (1.15.0)\n"
          ]
        }
      ],
      "source": [
        "pip install pandas\n"
      ]
    },
    {
      "cell_type": "code",
      "execution_count": null,
      "metadata": {
        "colab": {
          "base_uri": "https://localhost:8080/"
        },
        "id": "nYz5nA23X8Bu",
        "outputId": "155198df-91bc-46ec-bf35-afffa2b14aeb"
      },
      "outputs": [
        {
          "name": "stdout",
          "output_type": "stream",
          "text": [
            "Looking in indexes: https://pypi.org/simple, https://us-python.pkg.dev/colab-wheels/public/simple/\n",
            "Requirement already satisfied: scipy in /usr/local/lib/python3.8/dist-packages (1.7.3)\n",
            "Requirement already satisfied: numpy<1.23.0,>=1.16.5 in /usr/local/lib/python3.8/dist-packages (from scipy) (1.22.4)\n"
          ]
        }
      ],
      "source": [
        "pip install scipy"
      ]
    },
    {
      "cell_type": "code",
      "execution_count": null,
      "metadata": {
        "id": "FGbS8JN-ZWUj"
      },
      "outputs": [],
      "source": [
        "import pandas as pd"
      ]
    },
    {
      "cell_type": "code",
      "execution_count": null,
      "metadata": {
        "colab": {
          "base_uri": "https://localhost:8080/"
        },
        "id": "-Tqi18NUY60K",
        "outputId": "4e404b23-d90f-4b36-a5b8-cfe34b53917d"
      },
      "outputs": [
        {
          "name": "stdout",
          "output_type": "stream",
          "text": [
            "Mounted at /content/drive\n"
          ]
        }
      ],
      "source": [
        "from google.colab import drive\n",
        "drive.mount('/content/drive')"
      ]
    },
    {
      "cell_type": "code",
      "execution_count": null,
      "metadata": {
        "id": "oxDG80UXbih2"
      },
      "outputs": [],
      "source": [
        "df = pd.read_csv(\"/content/drive/MyDrive/sea_level.csv\")"
      ]
    },
    {
      "cell_type": "code",
      "execution_count": null,
      "metadata": {
        "colab": {
          "base_uri": "https://localhost:8080/"
        },
        "id": "Xsr3TMtbb6tA",
        "outputId": "b5f82aad-0089-40f8-dac0-6db07b5149ed"
      },
      "outputs": [
        {
          "name": "stdout",
          "output_type": "stream",
          "text": [
            "     Year  CSIRO Adjusted Sea Level  Lower Error Bound  Upper Error Bound  \\\n",
            "0    1880                  0.000000          -0.952756           0.952756   \n",
            "1    1881                  0.220472          -0.732283           1.173228   \n",
            "2    1882                 -0.440945          -1.346457           0.464567   \n",
            "3    1883                 -0.232283          -1.129921           0.665354   \n",
            "4    1884                  0.590551          -0.283465           1.464567   \n",
            "..    ...                       ...                ...                ...   \n",
            "130  2010                  8.901575           8.618110           9.185039   \n",
            "131  2011                  8.964567           8.661417           9.267717   \n",
            "132  2012                  9.326772           8.992126           9.661417   \n",
            "133  2013                  8.980315           8.622047           9.338583   \n",
            "134  2014                       NaN                NaN                NaN   \n",
            "\n",
            "     NOAA Adjusted Sea Level  \n",
            "0                        NaN  \n",
            "1                        NaN  \n",
            "2                        NaN  \n",
            "3                        NaN  \n",
            "4                        NaN  \n",
            "..                       ...  \n",
            "130                 8.122973  \n",
            "131                 8.053065  \n",
            "132                 8.457058  \n",
            "133                 8.546648  \n",
            "134                 8.663700  \n",
            "\n",
            "[135 rows x 5 columns]\n"
          ]
        }
      ],
      "source": [
        "print(df)"
      ]
    },
    {
      "cell_type": "code",
      "execution_count": null,
      "metadata": {
        "id": "YqdF9dukb_Cp"
      },
      "outputs": [],
      "source": [
        "df.to_csv(\"new_data.csv\", index=False)"
      ]
    },
    {
      "cell_type": "code",
      "execution_count": null,
      "metadata": {
        "colab": {
          "base_uri": "https://localhost:8080/",
          "height": 279
        },
        "id": "fnOLS4iFcLWS",
        "outputId": "7c3ce00d-7c64-4021-c9c8-eada1e9a6dca"
      },
      "outputs": [
        {
          "data": {
            "image/png": "[encoded data removed]",
            "text/plain": [
              "<Figure size 432x288 with 1 Axes>"
            ]
          },
          "metadata": {
            "needs_background": "light"
          },
          "output_type": "display_data"
        }
      ],
      "source": [
        "import pandas as pd\n",
        "import matplotlib.pyplot as plt\n",
        "\n",
        "# create a DataFrame\n",
        "data = {'x': [1, 2, 3, 4, 5], 'y': [2, 4, 6, 8, 10]}\n",
        "df = pd.DataFrame(data)\n",
        "\n",
        "# create a line plot\n",
        "df.plot(x='x', y='y')\n",
        "plt.show()"
      ]
    },
    {
      "cell_type": "code",
      "execution_count": null,
      "metadata": {
        "colab": {
          "base_uri": "https://localhost:8080/"
        },
        "id": "oI6EVXRdcdrG",
        "outputId": "cc934ad9-38f2-4ab1-9f3c-d8f06c091dfb"
      },
      "outputs": [
        {
          "name": "stdout",
          "output_type": "stream",
          "text": [
            "   x  y\n",
            "0  1  4\n",
            "1  2  5\n",
            "2  3  6\n",
            "0  4  7\n",
            "1  5  8\n",
            "2  6  9\n"
          ]
        }
      ],
      "source": [
        "data1 = {'x': [1, 2, 3], 'y': [4, 5, 6]}\n",
        "df1 = pd.DataFrame(data1)\n",
        "\n",
        "data2 = {'x': [4, 5, 6], 'y': [7, 8, 9]}\n",
        "df2 = pd.DataFrame(data2)\n",
        "\n",
        "# concatenate vertically\n",
        "df = pd.concat([df1, df2])\n",
        "print(df)"
      ]
    },
    {
      "cell_type": "code",
      "execution_count": null,
      "metadata": {
        "colab": {
          "base_uri": "https://localhost:8080/"
        },
        "id": "u0Nqy5sYc7jH",
        "outputId": "2bb7f60a-5e56-479d-899f-8749530c7bbb"
      },
      "outputs": [
        {
          "name": "stdout",
          "output_type": "stream",
          "text": [
            "  key  x  y\n",
            "0   B  2  4\n",
            "1   C  3  5\n"
          ]
        }
      ],
      "source": [
        "data1 = {'key': ['A', 'B', 'C'], 'x': [1, 2, 3]}\n",
        "df1 = pd.DataFrame(data1)\n",
        "\n",
        "data2 = {'key': ['B', 'C', 'D'], 'y': [4, 5, 6]}\n",
        "df2 = pd.DataFrame(data2)\n",
        "\n",
        "# merge based on \"key\"\n",
        "df = pd.merge(df1, df2, on=\"key\")\n",
        "print(df)\n"
      ]
    },
    {
      "cell_type": "code",
      "execution_count": null,
      "metadata": {
        "colab": {
          "base_uri": "https://localhost:8080/"
        },
        "id": "XFXNVCXEdF5B",
        "outputId": "33be654e-8c85-4278-da7b-5e36681ccb91"
      },
      "outputs": [
        {
          "name": "stdout",
          "output_type": "stream",
          "text": [
            "     value1  value2\n",
            "key                \n",
            "A       1.0     NaN\n",
            "B       2.0     4.0\n",
            "C       3.0     5.0\n",
            "D       NaN     6.0\n"
          ]
        }
      ],
      "source": [
        "data1 = {'key': ['A', 'B', 'C'], 'value1': [1, 2, 3]}\n",
        "df1 = pd.DataFrame(data1).set_index('key')\n",
        "\n",
        "# create the second DataFrame\n",
        "data2 = {'key': ['B', 'C', 'D'], 'value2': [4, 5, 6]}\n",
        "df2 = pd.DataFrame(data2).set_index('key')\n",
        "\n",
        "# join the two DataFrames\n",
        "df = df1.join(df2, how='outer')\n",
        "\n",
        "print(df)"
      ]
    }
  ],
  "metadata": {
    "colab": {
      "provenance": []
    },
    "kernelspec": {
      "display_name": "Python 3",
      "name": "python3"
    },
    "language_info": {
      "name": "python"
    }
  },
  "nbformat": 4,
  "nbformat_minor": 0
}
