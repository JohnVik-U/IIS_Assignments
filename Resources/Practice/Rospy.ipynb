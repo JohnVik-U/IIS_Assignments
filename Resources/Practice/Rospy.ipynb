{
  "cells": [
    {
      "cell_type": "code",
      "execution_count": null,
      "metadata": {
        "vscode": {
          "languageId": "plaintext"
        }
      },
      "outputs": [],
      "source": [
        "#!/usr/bin/env python\n",
        "\n",
        "import rospy\n",
        "from geometry_msgs.msg import Twist\n",
        "from turtlesim.msg import Pose\n",
        "from math import radians\n",
        "\n",
        "class PentagonCreator:\n",
        "    def __init__(self):\n",
        "        rospy.init_node('pentagon_creator')\n",
        "        rospy.Subscriber('/turtle1/pose', Pose, self.pose_callback)\n",
        "        self.cmd_vel_pub = rospy.Publisher('/turtle1/cmd_vel', Twist, queue_size=10)\n",
        "        self.rate = rospy.Rate(10)\n",
        "        self.side_length = None\n",
        "        self.angle = None\n",
        "\n",
        "    def pose_callback(self, data):\n",
        "        if self.side_length is not None and self.angle is not None:\n",
        "            self.create_pentagon(data)\n",
        "\n",
        "    def create_pentagon(self, data):\n",
        "        cmd_vel = Twist()\n",
        "        if self.side_length is not None and self.angle is not None:\n",
        "            count = 0\n",
        "            while count < 5:\n",
        "                cmd_vel.linear.x = self.side_length\n",
        "                self.cmd_vel_pub.publish(cmd_vel)\n",
        "                self.rate.sleep()\n",
        "\n",
        "                cmd_vel.linear.x = 0\n",
        "                self.cmd_vel_pub.publish(cmd_vel)\n",
        "                self.rate.sleep()\n",
        "\n",
        "                cmd_vel.angular.z = radians(self.angle)\n",
        "                self.cmd_vel_pub.publish(cmd_vel)\n",
        "                self.rate.sleep()\n",
        "\n",
        "                count += 1\n",
        "\n",
        "            rospy.signal_shutdown('Pentagon created')\n",
        "\n",
        "    def run(self):\n",
        "        self.side_length = float(input(\"Enter the length of each side for the pentagon: \"))\n",
        "        self.angle = 360 / 5\n",
        "        rospy.spin()\n",
        "\n",
        "if __name__ == '__main__':\n",
        "    pentagon_creator = PentagonCreator()\n",
        "    pentagon_creator.run()"
      ]
    }
  ],
  "metadata": {
    "colab": {
      "provenance": []
    },
    "kernelspec": {
      "display_name": "Python 3",
      "name": "python3"
    },
    "language_info": {
      "name": "python"
    }
  },
  "nbformat": 4,
  "nbformat_minor": 0
}
